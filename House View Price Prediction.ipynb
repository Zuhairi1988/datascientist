{
 "cells": [
  {
   "cell_type": "markdown",
   "id": "bdd7e3ac",
   "metadata": {},
   "source": [
    "# Simple Linear Regression"
   ]
  },
  {
   "cell_type": "code",
   "execution_count": 1,
   "id": "7986c479",
   "metadata": {},
   "outputs": [],
   "source": [
    "# Import Packages\n",
    "import numpy as np\n",
    "import pandas as pd\n",
    "import matplotlib.pyplot as plt\n",
    "import seaborn as sns"
   ]
  },
  {
   "cell_type": "code",
   "execution_count": 2,
   "id": "11310cda",
   "metadata": {},
   "outputs": [
    {
     "data": {
      "text/html": [
       "<div>\n",
       "<style scoped>\n",
       "    .dataframe tbody tr th:only-of-type {\n",
       "        vertical-align: middle;\n",
       "    }\n",
       "\n",
       "    .dataframe tbody tr th {\n",
       "        vertical-align: top;\n",
       "    }\n",
       "\n",
       "    .dataframe thead th {\n",
       "        text-align: right;\n",
       "    }\n",
       "</style>\n",
       "<table border=\"1\" class=\"dataframe\">\n",
       "  <thead>\n",
       "    <tr style=\"text-align: right;\">\n",
       "      <th></th>\n",
       "      <th>price</th>\n",
       "      <th>size</th>\n",
       "    </tr>\n",
       "  </thead>\n",
       "  <tbody>\n",
       "    <tr>\n",
       "      <th>0</th>\n",
       "      <td>234314.144</td>\n",
       "      <td>643.09</td>\n",
       "    </tr>\n",
       "    <tr>\n",
       "      <th>1</th>\n",
       "      <td>228581.528</td>\n",
       "      <td>656.22</td>\n",
       "    </tr>\n",
       "    <tr>\n",
       "      <th>2</th>\n",
       "      <td>281626.336</td>\n",
       "      <td>487.29</td>\n",
       "    </tr>\n",
       "    <tr>\n",
       "      <th>3</th>\n",
       "      <td>401255.608</td>\n",
       "      <td>1504.75</td>\n",
       "    </tr>\n",
       "    <tr>\n",
       "      <th>4</th>\n",
       "      <td>458674.256</td>\n",
       "      <td>1275.46</td>\n",
       "    </tr>\n",
       "  </tbody>\n",
       "</table>\n",
       "</div>"
      ],
      "text/plain": [
       "        price     size\n",
       "0  234314.144   643.09\n",
       "1  228581.528   656.22\n",
       "2  281626.336   487.29\n",
       "3  401255.608  1504.75\n",
       "4  458674.256  1275.46"
      ]
     },
     "execution_count": 2,
     "metadata": {},
     "output_type": "execute_result"
    }
   ],
   "source": [
    "# Import Dataset\n",
    "df = pd.read_csv('real_estate_SLR.csv')\n",
    "df.head()"
   ]
  },
  {
   "cell_type": "markdown",
   "id": "3bc634c6",
   "metadata": {},
   "source": [
    "## Check Data Quality"
   ]
  },
  {
   "cell_type": "code",
   "execution_count": 3,
   "id": "26ac44f5",
   "metadata": {},
   "outputs": [
    {
     "data": {
      "text/plain": [
       "(100, 2)"
      ]
     },
     "execution_count": 3,
     "metadata": {},
     "output_type": "execute_result"
    }
   ],
   "source": [
    "#Check Size\n",
    "df.shape"
   ]
  },
  {
   "cell_type": "code",
   "execution_count": 4,
   "id": "7ae051ae",
   "metadata": {},
   "outputs": [
    {
     "data": {
      "text/plain": [
       "price    0\n",
       "size     0\n",
       "dtype: int64"
      ]
     },
     "execution_count": 4,
     "metadata": {},
     "output_type": "execute_result"
    }
   ],
   "source": [
    "#Detect Missing Values\n",
    "df.isnull().sum()"
   ]
  },
  {
   "cell_type": "code",
   "execution_count": 5,
   "id": "62a65ee7",
   "metadata": {},
   "outputs": [
    {
     "data": {
      "text/html": [
       "<div>\n",
       "<style scoped>\n",
       "    .dataframe tbody tr th:only-of-type {\n",
       "        vertical-align: middle;\n",
       "    }\n",
       "\n",
       "    .dataframe tbody tr th {\n",
       "        vertical-align: top;\n",
       "    }\n",
       "\n",
       "    .dataframe thead th {\n",
       "        text-align: right;\n",
       "    }\n",
       "</style>\n",
       "<table border=\"1\" class=\"dataframe\">\n",
       "  <thead>\n",
       "    <tr style=\"text-align: right;\">\n",
       "      <th></th>\n",
       "      <th>price</th>\n",
       "      <th>size</th>\n",
       "    </tr>\n",
       "  </thead>\n",
       "  <tbody>\n",
       "  </tbody>\n",
       "</table>\n",
       "</div>"
      ],
      "text/plain": [
       "Empty DataFrame\n",
       "Columns: [price, size]\n",
       "Index: []"
      ]
     },
     "execution_count": 5,
     "metadata": {},
     "output_type": "execute_result"
    }
   ],
   "source": [
    "#Trace Duplicated Rows\n",
    "#Check duplicated rows\n",
    "df[df.duplicated(keep=False)]"
   ]
  },
  {
   "cell_type": "code",
   "execution_count": 6,
   "id": "c69466bc",
   "metadata": {},
   "outputs": [
    {
     "data": {
      "text/html": [
       "<div>\n",
       "<style scoped>\n",
       "    .dataframe tbody tr th:only-of-type {\n",
       "        vertical-align: middle;\n",
       "    }\n",
       "\n",
       "    .dataframe tbody tr th {\n",
       "        vertical-align: top;\n",
       "    }\n",
       "\n",
       "    .dataframe thead th {\n",
       "        text-align: right;\n",
       "    }\n",
       "</style>\n",
       "<table border=\"1\" class=\"dataframe\">\n",
       "  <thead>\n",
       "    <tr style=\"text-align: right;\">\n",
       "      <th></th>\n",
       "      <th>price</th>\n",
       "      <th>size</th>\n",
       "    </tr>\n",
       "  </thead>\n",
       "  <tbody>\n",
       "    <tr>\n",
       "      <th>0</th>\n",
       "      <td>234314.14</td>\n",
       "      <td>643.09</td>\n",
       "    </tr>\n",
       "    <tr>\n",
       "      <th>1</th>\n",
       "      <td>228581.53</td>\n",
       "      <td>656.22</td>\n",
       "    </tr>\n",
       "    <tr>\n",
       "      <th>2</th>\n",
       "      <td>281626.34</td>\n",
       "      <td>487.29</td>\n",
       "    </tr>\n",
       "    <tr>\n",
       "      <th>3</th>\n",
       "      <td>401255.61</td>\n",
       "      <td>1504.75</td>\n",
       "    </tr>\n",
       "    <tr>\n",
       "      <th>4</th>\n",
       "      <td>458674.26</td>\n",
       "      <td>1275.46</td>\n",
       "    </tr>\n",
       "  </tbody>\n",
       "</table>\n",
       "</div>"
      ],
      "text/plain": [
       "       price     size\n",
       "0  234314.14   643.09\n",
       "1  228581.53   656.22\n",
       "2  281626.34   487.29\n",
       "3  401255.61  1504.75\n",
       "4  458674.26  1275.46"
      ]
     },
     "execution_count": 6,
     "metadata": {},
     "output_type": "execute_result"
    }
   ],
   "source": [
    "#Change Value into 2 decimal places\n",
    "df['price']=df['price'].round(2)\n",
    "df.head()"
   ]
  },
  {
   "cell_type": "markdown",
   "id": "7b753a22",
   "metadata": {},
   "source": [
    "## Exploratory Data Analysis"
   ]
  },
  {
   "cell_type": "markdown",
   "id": "ddab9a81",
   "metadata": {},
   "source": [
    "### Univariate Analysis of price"
   ]
  },
  {
   "cell_type": "code",
   "execution_count": 7,
   "id": "8a3863ce",
   "metadata": {},
   "outputs": [
    {
     "data": {
      "text/html": [
       "<div>\n",
       "<style scoped>\n",
       "    .dataframe tbody tr th:only-of-type {\n",
       "        vertical-align: middle;\n",
       "    }\n",
       "\n",
       "    .dataframe tbody tr th {\n",
       "        vertical-align: top;\n",
       "    }\n",
       "\n",
       "    .dataframe thead th {\n",
       "        text-align: right;\n",
       "    }\n",
       "</style>\n",
       "<table border=\"1\" class=\"dataframe\">\n",
       "  <thead>\n",
       "    <tr style=\"text-align: right;\">\n",
       "      <th></th>\n",
       "      <th>price</th>\n",
       "      <th>size</th>\n",
       "    </tr>\n",
       "  </thead>\n",
       "  <tbody>\n",
       "    <tr>\n",
       "      <th>count</th>\n",
       "      <td>100.000000</td>\n",
       "      <td>100.000000</td>\n",
       "    </tr>\n",
       "    <tr>\n",
       "      <th>mean</th>\n",
       "      <td>292289.470800</td>\n",
       "      <td>853.024200</td>\n",
       "    </tr>\n",
       "    <tr>\n",
       "      <th>std</th>\n",
       "      <td>77051.727548</td>\n",
       "      <td>297.941951</td>\n",
       "    </tr>\n",
       "    <tr>\n",
       "      <th>min</th>\n",
       "      <td>154282.130000</td>\n",
       "      <td>479.750000</td>\n",
       "    </tr>\n",
       "    <tr>\n",
       "      <th>25%</th>\n",
       "      <td>234280.145000</td>\n",
       "      <td>643.330000</td>\n",
       "    </tr>\n",
       "    <tr>\n",
       "      <th>50%</th>\n",
       "      <td>280590.720000</td>\n",
       "      <td>696.405000</td>\n",
       "    </tr>\n",
       "    <tr>\n",
       "      <th>75%</th>\n",
       "      <td>335723.695000</td>\n",
       "      <td>1029.322500</td>\n",
       "    </tr>\n",
       "    <tr>\n",
       "      <th>max</th>\n",
       "      <td>500681.130000</td>\n",
       "      <td>1842.510000</td>\n",
       "    </tr>\n",
       "  </tbody>\n",
       "</table>\n",
       "</div>"
      ],
      "text/plain": [
       "               price         size\n",
       "count     100.000000   100.000000\n",
       "mean   292289.470800   853.024200\n",
       "std     77051.727548   297.941951\n",
       "min    154282.130000   479.750000\n",
       "25%    234280.145000   643.330000\n",
       "50%    280590.720000   696.405000\n",
       "75%    335723.695000  1029.322500\n",
       "max    500681.130000  1842.510000"
      ]
     },
     "execution_count": 7,
     "metadata": {},
     "output_type": "execute_result"
    }
   ],
   "source": [
    "df.describe()"
   ]
  },
  {
   "cell_type": "code",
   "execution_count": 8,
   "id": "f081db3c",
   "metadata": {},
   "outputs": [
    {
     "data": {
      "image/png": "[encoded data removed]",
      "text/plain": [
       "<Figure size 432x288 with 1 Axes>"
      ]
     },
     "metadata": {
      "needs_background": "light"
     },
     "output_type": "display_data"
    }
   ],
   "source": [
    "#Distribution of Response Variable\n",
    "plt.hist(x=df['price'],bins=20)\n",
    "plt.show()"
   ]
  },
  {
   "cell_type": "code",
   "execution_count": 9,
   "id": "d92f7819",
   "metadata": {},
   "outputs": [
    {
     "data": {
      "image/png": "[encoded data removed]",
      "text/plain": [
       "<Figure size 432x288 with 1 Axes>"
      ]
     },
     "metadata": {
      "needs_background": "light"
     },
     "output_type": "display_data"
    }
   ],
   "source": [
    "#Box Plot\n",
    "sns.boxplot(x='price',data=df)\n",
    "plt.show()"
   ]
  },
  {
   "cell_type": "code",
   "execution_count": 10,
   "id": "516a1789",
   "metadata": {},
   "outputs": [
    {
     "data": {
      "image/png": "[encoded data removed]",
      "text/plain": [
       "<Figure size 432x288 with 1 Axes>"
      ]
     },
     "metadata": {
      "needs_background": "light"
     },
     "output_type": "display_data"
    }
   ],
   "source": [
    "#Removing Outliers\n",
    "df = df[df['price']<487888]\n",
    "\n",
    "#Box Plot\n",
    "sns.boxplot(x='price',data=df)\n",
    "plt.show()"
   ]
  },
  {
   "cell_type": "code",
   "execution_count": 11,
   "id": "228de7fe",
   "metadata": {},
   "outputs": [
    {
     "data": {
      "text/plain": [
       "(98, 2)"
      ]
     },
     "execution_count": 11,
     "metadata": {},
     "output_type": "execute_result"
    }
   ],
   "source": [
    "df.shape"
   ]
  },
  {
   "cell_type": "markdown",
   "id": "2fe9e446",
   "metadata": {},
   "source": [
    "### Univariate Analysis - size"
   ]
  },
  {
   "cell_type": "code",
   "execution_count": 12,
   "id": "275b3063",
   "metadata": {},
   "outputs": [
    {
     "data": {
      "text/plain": [
       "count      98.000000\n",
       "mean      836.235408\n",
       "std       275.295007\n",
       "min       479.750000\n",
       "25%       643.170000\n",
       "50%       694.520000\n",
       "75%      1026.307500\n",
       "max      1504.750000\n",
       "Name: size, dtype: float64"
      ]
     },
     "execution_count": 12,
     "metadata": {},
     "output_type": "execute_result"
    }
   ],
   "source": [
    "df['size'].describe()"
   ]
  },
  {
   "cell_type": "code",
   "execution_count": 13,
   "id": "62755038",
   "metadata": {},
   "outputs": [
    {
     "data": {
      "image/png": "[encoded data removed]",
      "text/plain": [
       "<Figure size 432x288 with 1 Axes>"
      ]
     },
     "metadata": {
      "needs_background": "light"
     },
     "output_type": "display_data"
    }
   ],
   "source": [
    "#Distribution of Input\n",
    "plt.hist(x=df['size'],bins=20)\n",
    "plt.show()"
   ]
  },
  {
   "cell_type": "code",
   "execution_count": 14,
   "id": "0ddbaf02",
   "metadata": {},
   "outputs": [
    {
     "data": {
      "image/png": "[encoded data removed]",
      "text/plain": [
       "<Figure size 432x288 with 1 Axes>"
      ]
     },
     "metadata": {
      "needs_background": "light"
     },
     "output_type": "display_data"
    }
   ],
   "source": [
    "#Box Plot\n",
    "sns.boxplot(x='size',data=df)\n",
    "plt.show()"
   ]
  },
  {
   "cell_type": "markdown",
   "id": "c2defc6d",
   "metadata": {},
   "source": [
    "### Multivariate Analysis - price vs size"
   ]
  },
  {
   "cell_type": "code",
   "execution_count": 15,
   "id": "3dcb940c",
   "metadata": {},
   "outputs": [
    {
     "data": {
      "image/png": "[encoded data removed]",
      "text/plain": [
       "<Figure size 432x288 with 1 Axes>"
      ]
     },
     "metadata": {
      "needs_background": "light"
     },
     "output_type": "display_data"
    }
   ],
   "source": [
    "plt.scatter(df['size'],df['price'])\n",
    "plt.title('Price vs Size')\n",
    "plt.xlabel('Size')\n",
    "plt.ylabel('Price')\n",
    "plt.show()"
   ]
  },
  {
   "cell_type": "code",
   "execution_count": 16,
   "id": "da626114",
   "metadata": {},
   "outputs": [
    {
     "data": {
      "text/html": [
       "<div>\n",
       "<style scoped>\n",
       "    .dataframe tbody tr th:only-of-type {\n",
       "        vertical-align: middle;\n",
       "    }\n",
       "\n",
       "    .dataframe tbody tr th {\n",
       "        vertical-align: top;\n",
       "    }\n",
       "\n",
       "    .dataframe thead th {\n",
       "        text-align: right;\n",
       "    }\n",
       "</style>\n",
       "<table border=\"1\" class=\"dataframe\">\n",
       "  <thead>\n",
       "    <tr style=\"text-align: right;\">\n",
       "      <th></th>\n",
       "      <th>price</th>\n",
       "      <th>size</th>\n",
       "    </tr>\n",
       "  </thead>\n",
       "  <tbody>\n",
       "    <tr>\n",
       "      <th>price</th>\n",
       "      <td>1.000000</td>\n",
       "      <td>0.842273</td>\n",
       "    </tr>\n",
       "    <tr>\n",
       "      <th>size</th>\n",
       "      <td>0.842273</td>\n",
       "      <td>1.000000</td>\n",
       "    </tr>\n",
       "  </tbody>\n",
       "</table>\n",
       "</div>"
      ],
      "text/plain": [
       "          price      size\n",
       "price  1.000000  0.842273\n",
       "size   0.842273  1.000000"
      ]
     },
     "execution_count": 16,
     "metadata": {},
     "output_type": "execute_result"
    }
   ],
   "source": [
    "df.corr()"
   ]
  },
  {
   "cell_type": "markdown",
   "id": "603bf01f",
   "metadata": {},
   "source": [
    "## Assign Input and Output Variable"
   ]
  },
  {
   "cell_type": "code",
   "execution_count": 17,
   "id": "f440fdb5",
   "metadata": {},
   "outputs": [
    {
     "data": {
      "text/plain": [
       "Index(['price', 'size'], dtype='object')"
      ]
     },
     "execution_count": 17,
     "metadata": {},
     "output_type": "execute_result"
    }
   ],
   "source": [
    "df.columns"
   ]
  },
  {
   "cell_type": "code",
   "execution_count": 18,
   "id": "133dd3d4",
   "metadata": {},
   "outputs": [
    {
     "data": {
      "text/html": [
       "<div>\n",
       "<style scoped>\n",
       "    .dataframe tbody tr th:only-of-type {\n",
       "        vertical-align: middle;\n",
       "    }\n",
       "\n",
       "    .dataframe tbody tr th {\n",
       "        vertical-align: top;\n",
       "    }\n",
       "\n",
       "    .dataframe thead th {\n",
       "        text-align: right;\n",
       "    }\n",
       "</style>\n",
       "<table border=\"1\" class=\"dataframe\">\n",
       "  <thead>\n",
       "    <tr style=\"text-align: right;\">\n",
       "      <th></th>\n",
       "      <th>size</th>\n",
       "      <th>price</th>\n",
       "    </tr>\n",
       "  </thead>\n",
       "  <tbody>\n",
       "    <tr>\n",
       "      <th>0</th>\n",
       "      <td>643.09</td>\n",
       "      <td>234314.14</td>\n",
       "    </tr>\n",
       "    <tr>\n",
       "      <th>1</th>\n",
       "      <td>656.22</td>\n",
       "      <td>228581.53</td>\n",
       "    </tr>\n",
       "    <tr>\n",
       "      <th>2</th>\n",
       "      <td>487.29</td>\n",
       "      <td>281626.34</td>\n",
       "    </tr>\n",
       "    <tr>\n",
       "      <th>3</th>\n",
       "      <td>1504.75</td>\n",
       "      <td>401255.61</td>\n",
       "    </tr>\n",
       "    <tr>\n",
       "      <th>4</th>\n",
       "      <td>1275.46</td>\n",
       "      <td>458674.26</td>\n",
       "    </tr>\n",
       "  </tbody>\n",
       "</table>\n",
       "</div>"
      ],
      "text/plain": [
       "      size      price\n",
       "0   643.09  234314.14\n",
       "1   656.22  228581.53\n",
       "2   487.29  281626.34\n",
       "3  1504.75  401255.61\n",
       "4  1275.46  458674.26"
      ]
     },
     "execution_count": 18,
     "metadata": {},
     "output_type": "execute_result"
    }
   ],
   "source": [
    "#Rearranging the Dataframe\n",
    "df = df[['size','price']]\n",
    "df.head()"
   ]
  },
  {
   "cell_type": "code",
   "execution_count": 19,
   "id": "cbd8595f",
   "metadata": {},
   "outputs": [],
   "source": [
    "#General Slicing & Accessing Variable\n",
    "x = df.iloc[:,:-1]\n",
    "y = df.iloc[:,-1]"
   ]
  },
  {
   "cell_type": "markdown",
   "id": "29c7ce01",
   "metadata": {},
   "source": [
    "## Partitioning"
   ]
  },
  {
   "cell_type": "code",
   "execution_count": 20,
   "id": "cc2bead8",
   "metadata": {},
   "outputs": [],
   "source": [
    "from sklearn.model_selection import train_test_split\n",
    "\n",
    "x_train, x_test, y_train, y_test = train_test_split(x,y,test_size=0.2,random_state=0)"
   ]
  },
  {
   "cell_type": "markdown",
   "id": "3e5aebd7",
   "metadata": {},
   "source": [
    "## Training Algorithm"
   ]
  },
  {
   "cell_type": "code",
   "execution_count": 21,
   "id": "8c98b9f4",
   "metadata": {},
   "outputs": [],
   "source": [
    "#Train the Ordinary Least Squared (OLS) algorithm\n",
    "import statsmodels.api as sm\n",
    "x_train = sm.add_constant(x_train)\n",
    "reg_model = sm.OLS(y_train,x_train).fit()"
   ]
  },
  {
   "cell_type": "markdown",
   "id": "5a1aa09a",
   "metadata": {},
   "source": [
    "## Model Validation"
   ]
  },
  {
   "cell_type": "markdown",
   "id": "83028254",
   "metadata": {},
   "source": [
    "### a) Using R-Squared coefficient value"
   ]
  },
  {
   "cell_type": "code",
   "execution_count": 22,
   "id": "23669ff6",
   "metadata": {},
   "outputs": [
    {
     "data": {
      "text/html": [
       "<table class=\"simpletable\">\n",
       "<caption>OLS Regression Results</caption>\n",
       "<tr>\n",
       "  <th>Dep. Variable:</th>          <td>price</td>      <th>  R-squared:         </th> <td>   0.717</td>\n",
       "</tr>\n",
       "<tr>\n",
       "  <th>Model:</th>                   <td>OLS</td>       <th>  Adj. R-squared:    </th> <td>   0.713</td>\n",
       "</tr>\n",
       "<tr>\n",
       "  <th>Method:</th>             <td>Least Squares</td>  <th>  F-statistic:       </th> <td>   192.6</td>\n",
       "</tr>\n",
       "<tr>\n",
       "  <th>Date:</th>             <td>Tue, 03 Jan 2023</td> <th>  Prob (F-statistic):</th> <td>1.56e-22</td>\n",
       "</tr>\n",
       "<tr>\n",
       "  <th>Time:</th>                 <td>19:17:00</td>     <th>  Log-Likelihood:    </th> <td> -932.63</td>\n",
       "</tr>\n",
       "<tr>\n",
       "  <th>No. Observations:</th>      <td>    78</td>      <th>  AIC:               </th> <td>   1869.</td>\n",
       "</tr>\n",
       "<tr>\n",
       "  <th>Df Residuals:</th>          <td>    76</td>      <th>  BIC:               </th> <td>   1874.</td>\n",
       "</tr>\n",
       "<tr>\n",
       "  <th>Df Model:</th>              <td>     1</td>      <th>                     </th>     <td> </td>   \n",
       "</tr>\n",
       "<tr>\n",
       "  <th>Covariance Type:</th>      <td>nonrobust</td>    <th>                     </th>     <td> </td>   \n",
       "</tr>\n",
       "</table>\n",
       "<table class=\"simpletable\">\n",
       "<tr>\n",
       "    <td></td>       <th>coef</th>     <th>std err</th>      <th>t</th>      <th>P>|t|</th>  <th>[0.025</th>    <th>0.975]</th>  \n",
       "</tr>\n",
       "<tr>\n",
       "  <th>const</th> <td> 1.051e+05</td> <td> 1.38e+04</td> <td>    7.588</td> <td> 0.000</td> <td> 7.75e+04</td> <td> 1.33e+05</td>\n",
       "</tr>\n",
       "<tr>\n",
       "  <th>size</th>  <td>  217.6704</td> <td>   15.684</td> <td>   13.878</td> <td> 0.000</td> <td>  186.433</td> <td>  248.908</td>\n",
       "</tr>\n",
       "</table>\n",
       "<table class=\"simpletable\">\n",
       "<tr>\n",
       "  <th>Omnibus:</th>       <td> 4.409</td> <th>  Durbin-Watson:     </th> <td>   2.122</td>\n",
       "</tr>\n",
       "<tr>\n",
       "  <th>Prob(Omnibus):</th> <td> 0.110</td> <th>  Jarque-Bera (JB):  </th> <td>   2.383</td>\n",
       "</tr>\n",
       "<tr>\n",
       "  <th>Skew:</th>          <td> 0.165</td> <th>  Prob(JB):          </th> <td>   0.304</td>\n",
       "</tr>\n",
       "<tr>\n",
       "  <th>Kurtosis:</th>      <td> 2.210</td> <th>  Cond. No.          </th> <td>2.83e+03</td>\n",
       "</tr>\n",
       "</table><br/><br/>Notes:<br/>[1] Standard Errors assume that the covariance matrix of the errors is correctly specified.<br/>[2] The condition number is large, 2.83e+03. This might indicate that there are<br/>strong multicollinearity or other numerical problems."
      ],
      "text/plain": [
       "<class 'statsmodels.iolib.summary.Summary'>\n",
       "\"\"\"\n",
       "                            OLS Regression Results                            \n",
       "==============================================================================\n",
       "Dep. Variable:                  price   R-squared:                       0.717\n",
       "Model:                            OLS   Adj. R-squared:                  0.713\n",
       "Method:                 Least Squares   F-statistic:                     192.6\n",
       "Date:                Tue, 03 Jan 2023   Prob (F-statistic):           1.56e-22\n",
       "Time:                        19:17:00   Log-Likelihood:                -932.63\n",
       "No. Observations:                  78   AIC:                             1869.\n",
       "Df Residuals:                      76   BIC:                             1874.\n",
       "Df Model:                           1                                         \n",
       "Covariance Type:            nonrobust                                         \n",
       "==============================================================================\n",
       "                 coef    std err          t      P>|t|      [0.025      0.975]\n",
       "------------------------------------------------------------------------------\n",
       "const       1.051e+05   1.38e+04      7.588      0.000    7.75e+04    1.33e+05\n",
       "size         217.6704     15.684     13.878      0.000     186.433     248.908\n",
       "==============================================================================\n",
       "Omnibus:                        4.409   Durbin-Watson:                   2.122\n",
       "Prob(Omnibus):                  0.110   Jarque-Bera (JB):                2.383\n",
       "Skew:                           0.165   Prob(JB):                        0.304\n",
       "Kurtosis:                       2.210   Cond. No.                     2.83e+03\n",
       "==============================================================================\n",
       "\n",
       "Notes:\n",
       "[1] Standard Errors assume that the covariance matrix of the errors is correctly specified.\n",
       "[2] The condition number is large, 2.83e+03. This might indicate that there are\n",
       "strong multicollinearity or other numerical problems.\n",
       "\"\"\""
      ]
     },
     "execution_count": 22,
     "metadata": {},
     "output_type": "execute_result"
    }
   ],
   "source": [
    "reg_model.summary()"
   ]
  },
  {
   "cell_type": "markdown",
   "id": "f50770d3",
   "metadata": {},
   "source": [
    "### b) Correlation between Predicted Output vs Actual Output"
   ]
  },
  {
   "cell_type": "code",
   "execution_count": 23,
   "id": "b3797709",
   "metadata": {},
   "outputs": [],
   "source": [
    "#Apply the Model using Test set\n",
    "x_test = sm.add_constant(x_test)\n",
    "y_pred = reg_model.predict(x_test) #Predict the output"
   ]
  },
  {
   "cell_type": "code",
   "execution_count": 24,
   "id": "97efe1b1",
   "metadata": {},
   "outputs": [
    {
     "data": {
      "text/html": [
       "<div>\n",
       "<style scoped>\n",
       "    .dataframe tbody tr th:only-of-type {\n",
       "        vertical-align: middle;\n",
       "    }\n",
       "\n",
       "    .dataframe tbody tr th {\n",
       "        vertical-align: top;\n",
       "    }\n",
       "\n",
       "    .dataframe thead th {\n",
       "        text-align: right;\n",
       "    }\n",
       "</style>\n",
       "<table border=\"1\" class=\"dataframe\">\n",
       "  <thead>\n",
       "    <tr style=\"text-align: right;\">\n",
       "      <th></th>\n",
       "      <th>const</th>\n",
       "      <th>size</th>\n",
       "    </tr>\n",
       "  </thead>\n",
       "  <tbody>\n",
       "    <tr>\n",
       "      <th>27</th>\n",
       "      <td>1.0</td>\n",
       "      <td>1334.10</td>\n",
       "    </tr>\n",
       "    <tr>\n",
       "      <th>87</th>\n",
       "      <td>1.0</td>\n",
       "      <td>1028.41</td>\n",
       "    </tr>\n",
       "    <tr>\n",
       "      <th>2</th>\n",
       "      <td>1.0</td>\n",
       "      <td>487.29</td>\n",
       "    </tr>\n",
       "    <tr>\n",
       "      <th>57</th>\n",
       "      <td>1.0</td>\n",
       "      <td>1283.85</td>\n",
       "    </tr>\n",
       "    <tr>\n",
       "      <th>70</th>\n",
       "      <td>1.0</td>\n",
       "      <td>1021.95</td>\n",
       "    </tr>\n",
       "  </tbody>\n",
       "</table>\n",
       "</div>"
      ],
      "text/plain": [
       "    const     size\n",
       "27    1.0  1334.10\n",
       "87    1.0  1028.41\n",
       "2     1.0   487.29\n",
       "57    1.0  1283.85\n",
       "70    1.0  1021.95"
      ]
     },
     "execution_count": 24,
     "metadata": {},
     "output_type": "execute_result"
    }
   ],
   "source": [
    "x_test.head()"
   ]
  },
  {
   "cell_type": "code",
   "execution_count": 25,
   "id": "6d7051ec",
   "metadata": {},
   "outputs": [
    {
     "data": {
      "text/html": [
       "<div>\n",
       "<style scoped>\n",
       "    .dataframe tbody tr th:only-of-type {\n",
       "        vertical-align: middle;\n",
       "    }\n",
       "\n",
       "    .dataframe tbody tr th {\n",
       "        vertical-align: top;\n",
       "    }\n",
       "\n",
       "    .dataframe thead th {\n",
       "        text-align: right;\n",
       "    }\n",
       "</style>\n",
       "<table border=\"1\" class=\"dataframe\">\n",
       "  <thead>\n",
       "    <tr style=\"text-align: right;\">\n",
       "      <th></th>\n",
       "      <th>Actual</th>\n",
       "      <th>Predicted</th>\n",
       "    </tr>\n",
       "    <tr>\n",
       "      <th>size</th>\n",
       "      <th></th>\n",
       "      <th></th>\n",
       "    </tr>\n",
       "  </thead>\n",
       "  <tbody>\n",
       "    <tr>\n",
       "      <th>1334.10</th>\n",
       "      <td>406852.30</td>\n",
       "      <td>395483.62</td>\n",
       "    </tr>\n",
       "    <tr>\n",
       "      <th>1028.41</th>\n",
       "      <td>327252.11</td>\n",
       "      <td>328943.95</td>\n",
       "    </tr>\n",
       "    <tr>\n",
       "      <th>487.29</th>\n",
       "      <td>281626.34</td>\n",
       "      <td>211158.14</td>\n",
       "    </tr>\n",
       "    <tr>\n",
       "      <th>1283.85</th>\n",
       "      <td>395242.10</td>\n",
       "      <td>384545.68</td>\n",
       "    </tr>\n",
       "    <tr>\n",
       "      <th>1021.95</th>\n",
       "      <td>276875.63</td>\n",
       "      <td>327537.80</td>\n",
       "    </tr>\n",
       "    <tr>\n",
       "      <th>685.48</th>\n",
       "      <td>303597.22</td>\n",
       "      <td>254298.24</td>\n",
       "    </tr>\n",
       "    <tr>\n",
       "      <th>623.94</th>\n",
       "      <td>234178.16</td>\n",
       "      <td>240902.80</td>\n",
       "    </tr>\n",
       "    <tr>\n",
       "      <th>681.07</th>\n",
       "      <td>180307.22</td>\n",
       "      <td>253338.31</td>\n",
       "    </tr>\n",
       "    <tr>\n",
       "      <th>1032.06</th>\n",
       "      <td>320345.52</td>\n",
       "      <td>329738.45</td>\n",
       "    </tr>\n",
       "    <tr>\n",
       "      <th>685.48</th>\n",
       "      <td>294582.94</td>\n",
       "      <td>254298.24</td>\n",
       "    </tr>\n",
       "  </tbody>\n",
       "</table>\n",
       "</div>"
      ],
      "text/plain": [
       "            Actual  Predicted\n",
       "size                         \n",
       "1334.10  406852.30  395483.62\n",
       "1028.41  327252.11  328943.95\n",
       "487.29   281626.34  211158.14\n",
       "1283.85  395242.10  384545.68\n",
       "1021.95  276875.63  327537.80\n",
       "685.48   303597.22  254298.24\n",
       "623.94   234178.16  240902.80\n",
       "681.07   180307.22  253338.31\n",
       "1032.06  320345.52  329738.45\n",
       "685.48   294582.94  254298.24"
      ]
     },
     "execution_count": 25,
     "metadata": {},
     "output_type": "execute_result"
    }
   ],
   "source": [
    "#Dataframe of Predicted Output and Actual Output for Test set\n",
    "df_validate = pd.DataFrame({'size':x_test['size'],'Actual':y_test,'Predicted':y_pred}) #Create Data Frame\n",
    "df_validate['Predicted']=df_validate['Predicted'].round(2)\n",
    "df_validate=df_validate.set_index('size')\n",
    "df_validate.head(10)"
   ]
  },
  {
   "cell_type": "code",
   "execution_count": 26,
   "id": "a0bc1924",
   "metadata": {},
   "outputs": [
    {
     "data": {
      "image/png": "[encoded data removed]",
      "text/plain": [
       "<Figure size 432x288 with 1 Axes>"
      ]
     },
     "metadata": {
      "needs_background": "light"
     },
     "output_type": "display_data"
    }
   ],
   "source": [
    "plt.scatter(df_validate['Actual'],df_validate['Predicted'])\n",
    "plt.xlabel('Actual')\n",
    "plt.ylabel('Predicted')\n",
    "plt.show()"
   ]
  },
  {
   "cell_type": "code",
   "execution_count": 27,
   "id": "f1b9486e",
   "metadata": {},
   "outputs": [
    {
     "data": {
      "text/html": [
       "<div>\n",
       "<style scoped>\n",
       "    .dataframe tbody tr th:only-of-type {\n",
       "        vertical-align: middle;\n",
       "    }\n",
       "\n",
       "    .dataframe tbody tr th {\n",
       "        vertical-align: top;\n",
       "    }\n",
       "\n",
       "    .dataframe thead th {\n",
       "        text-align: right;\n",
       "    }\n",
       "</style>\n",
       "<table border=\"1\" class=\"dataframe\">\n",
       "  <thead>\n",
       "    <tr style=\"text-align: right;\">\n",
       "      <th></th>\n",
       "      <th>Actual</th>\n",
       "      <th>Predicted</th>\n",
       "    </tr>\n",
       "  </thead>\n",
       "  <tbody>\n",
       "    <tr>\n",
       "      <th>Actual</th>\n",
       "      <td>1.00</td>\n",
       "      <td>0.83</td>\n",
       "    </tr>\n",
       "    <tr>\n",
       "      <th>Predicted</th>\n",
       "      <td>0.83</td>\n",
       "      <td>1.00</td>\n",
       "    </tr>\n",
       "  </tbody>\n",
       "</table>\n",
       "</div>"
      ],
      "text/plain": [
       "           Actual  Predicted\n",
       "Actual       1.00       0.83\n",
       "Predicted    0.83       1.00"
      ]
     },
     "execution_count": 27,
     "metadata": {},
     "output_type": "execute_result"
    }
   ],
   "source": [
    "df_validate.corr().round(2)"
   ]
  },
  {
   "cell_type": "markdown",
   "id": "787d1f1b",
   "metadata": {},
   "source": [
    "## Apply Model with New Data"
   ]
  },
  {
   "cell_type": "code",
   "execution_count": 28,
   "id": "207ad03b",
   "metadata": {},
   "outputs": [
    {
     "data": {
      "text/plain": [
       "0    257458.81\n",
       "1    279225.85\n",
       "dtype: float64"
      ]
     },
     "execution_count": 28,
     "metadata": {},
     "output_type": "execute_result"
    }
   ],
   "source": [
    "#What is the property price if size = 700 & 800\n",
    "df_input = pd.DataFrame({'size':[700,800]})\n",
    "\n",
    "x_input = sm.add_constant(df_input)\n",
    "reg_model.predict(x_input).round(2)"
   ]
  },
  {
   "cell_type": "markdown",
   "id": "16d8e1f9",
   "metadata": {},
   "source": [
    "## Plotting the Model in Scatter Plot"
   ]
  },
  {
   "cell_type": "code",
   "execution_count": 29,
   "id": "5e98f37a",
   "metadata": {},
   "outputs": [
    {
     "data": {
      "text/html": [
       "<div>\n",
       "<style scoped>\n",
       "    .dataframe tbody tr th:only-of-type {\n",
       "        vertical-align: middle;\n",
       "    }\n",
       "\n",
       "    .dataframe tbody tr th {\n",
       "        vertical-align: top;\n",
       "    }\n",
       "\n",
       "    .dataframe thead th {\n",
       "        text-align: right;\n",
       "    }\n",
       "</style>\n",
       "<table border=\"1\" class=\"dataframe\">\n",
       "  <thead>\n",
       "    <tr style=\"text-align: right;\">\n",
       "      <th></th>\n",
       "      <th>x</th>\n",
       "      <th>y</th>\n",
       "    </tr>\n",
       "  </thead>\n",
       "  <tbody>\n",
       "    <tr>\n",
       "      <th>0</th>\n",
       "      <td>643.09</td>\n",
       "      <td>245071.19</td>\n",
       "    </tr>\n",
       "    <tr>\n",
       "      <th>1</th>\n",
       "      <td>656.22</td>\n",
       "      <td>247929.20</td>\n",
       "    </tr>\n",
       "    <tr>\n",
       "      <th>2</th>\n",
       "      <td>487.29</td>\n",
       "      <td>211158.14</td>\n",
       "    </tr>\n",
       "    <tr>\n",
       "      <th>3</th>\n",
       "      <td>1504.75</td>\n",
       "      <td>432629.07</td>\n",
       "    </tr>\n",
       "    <tr>\n",
       "      <th>4</th>\n",
       "      <td>1275.46</td>\n",
       "      <td>382719.42</td>\n",
       "    </tr>\n",
       "  </tbody>\n",
       "</table>\n",
       "</div>"
      ],
      "text/plain": [
       "         x          y\n",
       "0   643.09  245071.19\n",
       "1   656.22  247929.20\n",
       "2   487.29  211158.14\n",
       "3  1504.75  432629.07\n",
       "4  1275.46  382719.42"
      ]
     },
     "execution_count": 29,
     "metadata": {},
     "output_type": "execute_result"
    }
   ],
   "source": [
    "x_graph = sm.add_constant(df['size'])\n",
    "y_graph = reg_model.predict(x_graph).round(2)\n",
    "y_graph = pd.DataFrame({'x':df['size'],'y':y_graph})\n",
    "y_graph.head()"
   ]
  },
  {
   "cell_type": "code",
   "execution_count": 30,
   "id": "701b977e",
   "metadata": {},
   "outputs": [
    {
     "data": {
      "image/png": "[encoded data removed]",
      "text/plain": [
       "<Figure size 432x288 with 1 Axes>"
      ]
     },
     "metadata": {
      "needs_background": "light"
     },
     "output_type": "display_data"
    }
   ],
   "source": [
    "plt.scatter(df['size'],df['price'])\n",
    "plt.plot(y_graph['x'],y_graph['y'],color='red')\n",
    "plt.title('Price vs Size')\n",
    "plt.xlabel('Size')\n",
    "plt.ylabel('Price')\n",
    "plt.show()"
   ]
  },
  {
   "cell_type": "markdown",
   "id": "65b45cc2",
   "metadata": {},
   "source": [
    "# Multiple Linear Regression"
   ]
  },
  {
   "cell_type": "markdown",
   "id": "252e84e1",
   "metadata": {},
   "source": [
    "## Import Dataset & EDA"
   ]
  },
  {
   "cell_type": "code",
   "execution_count": 31,
   "id": "f88ccc97",
   "metadata": {},
   "outputs": [
    {
     "data": {
      "text/html": [
       "<div>\n",
       "<style scoped>\n",
       "    .dataframe tbody tr th:only-of-type {\n",
       "        vertical-align: middle;\n",
       "    }\n",
       "\n",
       "    .dataframe tbody tr th {\n",
       "        vertical-align: top;\n",
       "    }\n",
       "\n",
       "    .dataframe thead th {\n",
       "        text-align: right;\n",
       "    }\n",
       "</style>\n",
       "<table border=\"1\" class=\"dataframe\">\n",
       "  <thead>\n",
       "    <tr style=\"text-align: right;\">\n",
       "      <th></th>\n",
       "      <th>price</th>\n",
       "      <th>size</th>\n",
       "      <th>view</th>\n",
       "    </tr>\n",
       "  </thead>\n",
       "  <tbody>\n",
       "    <tr>\n",
       "      <th>0</th>\n",
       "      <td>234314.14</td>\n",
       "      <td>643.09</td>\n",
       "      <td>garden view</td>\n",
       "    </tr>\n",
       "    <tr>\n",
       "      <th>1</th>\n",
       "      <td>228581.53</td>\n",
       "      <td>656.22</td>\n",
       "      <td>garden view</td>\n",
       "    </tr>\n",
       "    <tr>\n",
       "      <th>2</th>\n",
       "      <td>281626.34</td>\n",
       "      <td>487.29</td>\n",
       "      <td>sea view</td>\n",
       "    </tr>\n",
       "    <tr>\n",
       "      <th>3</th>\n",
       "      <td>401255.61</td>\n",
       "      <td>1504.75</td>\n",
       "      <td>garden view</td>\n",
       "    </tr>\n",
       "    <tr>\n",
       "      <th>4</th>\n",
       "      <td>458674.26</td>\n",
       "      <td>1275.46</td>\n",
       "      <td>sea view</td>\n",
       "    </tr>\n",
       "    <tr>\n",
       "      <th>5</th>\n",
       "      <td>245050.28</td>\n",
       "      <td>575.19</td>\n",
       "      <td>sea view</td>\n",
       "    </tr>\n",
       "    <tr>\n",
       "      <th>6</th>\n",
       "      <td>265129.06</td>\n",
       "      <td>570.89</td>\n",
       "      <td>sea view</td>\n",
       "    </tr>\n",
       "    <tr>\n",
       "      <th>7</th>\n",
       "      <td>175716.48</td>\n",
       "      <td>620.82</td>\n",
       "      <td>garden view</td>\n",
       "    </tr>\n",
       "    <tr>\n",
       "      <th>8</th>\n",
       "      <td>331101.34</td>\n",
       "      <td>682.26</td>\n",
       "      <td>sea view</td>\n",
       "    </tr>\n",
       "    <tr>\n",
       "      <th>9</th>\n",
       "      <td>218630.61</td>\n",
       "      <td>694.52</td>\n",
       "      <td>garden view</td>\n",
       "    </tr>\n",
       "  </tbody>\n",
       "</table>\n",
       "</div>"
      ],
      "text/plain": [
       "       price     size         view\n",
       "0  234314.14   643.09  garden view\n",
       "1  228581.53   656.22  garden view\n",
       "2  281626.34   487.29     sea view\n",
       "3  401255.61  1504.75  garden view\n",
       "4  458674.26  1275.46     sea view\n",
       "5  245050.28   575.19     sea view\n",
       "6  265129.06   570.89     sea view\n",
       "7  175716.48   620.82  garden view\n",
       "8  331101.34   682.26     sea view\n",
       "9  218630.61   694.52  garden view"
      ]
     },
     "execution_count": 31,
     "metadata": {},
     "output_type": "execute_result"
    }
   ],
   "source": [
    "# Import Dataset\n",
    "df = pd.read_csv('real_estate_MLR.csv')\n",
    "df['price']=df['price'].round(2)\n",
    "df.head(10)"
   ]
  },
  {
   "cell_type": "code",
   "execution_count": 32,
   "id": "abf03b0b",
   "metadata": {},
   "outputs": [
    {
     "data": {
      "image/png": "[encoded data removed]",
      "text/plain": [
       "<Figure size 432x288 with 1 Axes>"
      ]
     },
     "metadata": {
      "needs_background": "light"
     },
     "output_type": "display_data"
    }
   ],
   "source": [
    "#Removing Outliers\n",
    "df = df[df['price']<487888]\n",
    "\n",
    "#Box Plot\n",
    "sns.boxplot(x='price',data=df)\n",
    "plt.show()"
   ]
  },
  {
   "cell_type": "code",
   "execution_count": 33,
   "id": "af5fcf81",
   "metadata": {},
   "outputs": [
    {
     "data": {
      "text/plain": [
       "garden view    51\n",
       "sea view       47\n",
       "Name: view, dtype: int64"
      ]
     },
     "execution_count": 33,
     "metadata": {},
     "output_type": "execute_result"
    }
   ],
   "source": [
    "#Check classes in view\n",
    "df['view'].value_counts()"
   ]
  },
  {
   "cell_type": "markdown",
   "id": "f00c524c",
   "metadata": {},
   "source": [
    "## Feature Selection with Multivariate Analysis: price vs view"
   ]
  },
  {
   "cell_type": "code",
   "execution_count": 34,
   "id": "93c94916",
   "metadata": {},
   "outputs": [
    {
     "data": {
      "text/html": [
       "<div>\n",
       "<style scoped>\n",
       "    .dataframe tbody tr th:only-of-type {\n",
       "        vertical-align: middle;\n",
       "    }\n",
       "\n",
       "    .dataframe tbody tr th {\n",
       "        vertical-align: top;\n",
       "    }\n",
       "\n",
       "    .dataframe thead th {\n",
       "        text-align: right;\n",
       "    }\n",
       "</style>\n",
       "<table border=\"1\" class=\"dataframe\">\n",
       "  <thead>\n",
       "    <tr style=\"text-align: right;\">\n",
       "      <th></th>\n",
       "      <th>view</th>\n",
       "      <th>price</th>\n",
       "    </tr>\n",
       "  </thead>\n",
       "  <tbody>\n",
       "    <tr>\n",
       "      <th>0</th>\n",
       "      <td>garden view</td>\n",
       "      <td>261186.23</td>\n",
       "    </tr>\n",
       "    <tr>\n",
       "      <th>1</th>\n",
       "      <td>sea view</td>\n",
       "      <td>317297.64</td>\n",
       "    </tr>\n",
       "  </tbody>\n",
       "</table>\n",
       "</div>"
      ],
      "text/plain": [
       "          view      price\n",
       "0  garden view  261186.23\n",
       "1     sea view  317297.64"
      ]
     },
     "execution_count": 34,
     "metadata": {},
     "output_type": "execute_result"
    }
   ],
   "source": [
    "#Compute the mean price of each class in view\n",
    "meanPrice_view = df.groupby('view',as_index=False)['price'].mean()\n",
    "round(meanPrice_view,2)"
   ]
  },
  {
   "cell_type": "code",
   "execution_count": 35,
   "id": "7691406a",
   "metadata": {},
   "outputs": [
    {
     "data": {
      "image/png": "[encoded data removed]",
      "text/plain": [
       "<Figure size 432x288 with 1 Axes>"
      ]
     },
     "metadata": {
      "needs_background": "light"
     },
     "output_type": "display_data"
    }
   ],
   "source": [
    "#Compare the price difference between No sea view and Sea view\n",
    "sns.boxplot(x='view',y='price',data=df)\n",
    "plt.show()"
   ]
  },
  {
   "cell_type": "markdown",
   "id": "71c2ea3b",
   "metadata": {},
   "source": [
    "## Assign Input and Output Variable"
   ]
  },
  {
   "cell_type": "code",
   "execution_count": 36,
   "id": "0fc56ad2",
   "metadata": {
    "scrolled": true
   },
   "outputs": [
    {
     "data": {
      "text/plain": [
       "Index(['price', 'size', 'view'], dtype='object')"
      ]
     },
     "execution_count": 36,
     "metadata": {},
     "output_type": "execute_result"
    }
   ],
   "source": [
    "df.columns"
   ]
  },
  {
   "cell_type": "code",
   "execution_count": 37,
   "id": "76090cbb",
   "metadata": {},
   "outputs": [
    {
     "data": {
      "text/html": [
       "<div>\n",
       "<style scoped>\n",
       "    .dataframe tbody tr th:only-of-type {\n",
       "        vertical-align: middle;\n",
       "    }\n",
       "\n",
       "    .dataframe tbody tr th {\n",
       "        vertical-align: top;\n",
       "    }\n",
       "\n",
       "    .dataframe thead th {\n",
       "        text-align: right;\n",
       "    }\n",
       "</style>\n",
       "<table border=\"1\" class=\"dataframe\">\n",
       "  <thead>\n",
       "    <tr style=\"text-align: right;\">\n",
       "      <th></th>\n",
       "      <th>size</th>\n",
       "      <th>view</th>\n",
       "      <th>price</th>\n",
       "    </tr>\n",
       "  </thead>\n",
       "  <tbody>\n",
       "    <tr>\n",
       "      <th>0</th>\n",
       "      <td>643.09</td>\n",
       "      <td>garden view</td>\n",
       "      <td>234314.14</td>\n",
       "    </tr>\n",
       "    <tr>\n",
       "      <th>1</th>\n",
       "      <td>656.22</td>\n",
       "      <td>garden view</td>\n",
       "      <td>228581.53</td>\n",
       "    </tr>\n",
       "    <tr>\n",
       "      <th>2</th>\n",
       "      <td>487.29</td>\n",
       "      <td>sea view</td>\n",
       "      <td>281626.34</td>\n",
       "    </tr>\n",
       "    <tr>\n",
       "      <th>3</th>\n",
       "      <td>1504.75</td>\n",
       "      <td>garden view</td>\n",
       "      <td>401255.61</td>\n",
       "    </tr>\n",
       "    <tr>\n",
       "      <th>4</th>\n",
       "      <td>1275.46</td>\n",
       "      <td>sea view</td>\n",
       "      <td>458674.26</td>\n",
       "    </tr>\n",
       "  </tbody>\n",
       "</table>\n",
       "</div>"
      ],
      "text/plain": [
       "      size         view      price\n",
       "0   643.09  garden view  234314.14\n",
       "1   656.22  garden view  228581.53\n",
       "2   487.29     sea view  281626.34\n",
       "3  1504.75  garden view  401255.61\n",
       "4  1275.46     sea view  458674.26"
      ]
     },
     "execution_count": 37,
     "metadata": {},
     "output_type": "execute_result"
    }
   ],
   "source": [
    "#Rearranging the Dataframe\n",
    "df = df[['size','view','price']]\n",
    "df.head()"
   ]
  },
  {
   "cell_type": "code",
   "execution_count": 38,
   "id": "fcdc2391",
   "metadata": {},
   "outputs": [],
   "source": [
    "#General Slicing & Accessing Variable\n",
    "x = df.iloc[:,:-1]\n",
    "y = df.iloc[:,-1]"
   ]
  },
  {
   "cell_type": "code",
   "execution_count": 39,
   "id": "95e2be1b",
   "metadata": {},
   "outputs": [
    {
     "data": {
      "text/html": [
       "<div>\n",
       "<style scoped>\n",
       "    .dataframe tbody tr th:only-of-type {\n",
       "        vertical-align: middle;\n",
       "    }\n",
       "\n",
       "    .dataframe tbody tr th {\n",
       "        vertical-align: top;\n",
       "    }\n",
       "\n",
       "    .dataframe thead th {\n",
       "        text-align: right;\n",
       "    }\n",
       "</style>\n",
       "<table border=\"1\" class=\"dataframe\">\n",
       "  <thead>\n",
       "    <tr style=\"text-align: right;\">\n",
       "      <th></th>\n",
       "      <th>size</th>\n",
       "      <th>view</th>\n",
       "    </tr>\n",
       "  </thead>\n",
       "  <tbody>\n",
       "    <tr>\n",
       "      <th>0</th>\n",
       "      <td>643.09</td>\n",
       "      <td>garden view</td>\n",
       "    </tr>\n",
       "    <tr>\n",
       "      <th>1</th>\n",
       "      <td>656.22</td>\n",
       "      <td>garden view</td>\n",
       "    </tr>\n",
       "    <tr>\n",
       "      <th>2</th>\n",
       "      <td>487.29</td>\n",
       "      <td>sea view</td>\n",
       "    </tr>\n",
       "    <tr>\n",
       "      <th>3</th>\n",
       "      <td>1504.75</td>\n",
       "      <td>garden view</td>\n",
       "    </tr>\n",
       "    <tr>\n",
       "      <th>4</th>\n",
       "      <td>1275.46</td>\n",
       "      <td>sea view</td>\n",
       "    </tr>\n",
       "    <tr>\n",
       "      <th>5</th>\n",
       "      <td>575.19</td>\n",
       "      <td>sea view</td>\n",
       "    </tr>\n",
       "  </tbody>\n",
       "</table>\n",
       "</div>"
      ],
      "text/plain": [
       "      size         view\n",
       "0   643.09  garden view\n",
       "1   656.22  garden view\n",
       "2   487.29     sea view\n",
       "3  1504.75  garden view\n",
       "4  1275.46     sea view\n",
       "5   575.19     sea view"
      ]
     },
     "execution_count": 39,
     "metadata": {},
     "output_type": "execute_result"
    }
   ],
   "source": [
    "x.head(6)"
   ]
  },
  {
   "cell_type": "markdown",
   "id": "2ab11cf1",
   "metadata": {},
   "source": [
    "## Handling Categorical Features"
   ]
  },
  {
   "cell_type": "code",
   "execution_count": 40,
   "id": "0538d88c",
   "metadata": {},
   "outputs": [
    {
     "data": {
      "text/html": [
       "<div>\n",
       "<style scoped>\n",
       "    .dataframe tbody tr th:only-of-type {\n",
       "        vertical-align: middle;\n",
       "    }\n",
       "\n",
       "    .dataframe tbody tr th {\n",
       "        vertical-align: top;\n",
       "    }\n",
       "\n",
       "    .dataframe thead th {\n",
       "        text-align: right;\n",
       "    }\n",
       "</style>\n",
       "<table border=\"1\" class=\"dataframe\">\n",
       "  <thead>\n",
       "    <tr style=\"text-align: right;\">\n",
       "      <th></th>\n",
       "      <th>size</th>\n",
       "      <th>view_sea view</th>\n",
       "    </tr>\n",
       "  </thead>\n",
       "  <tbody>\n",
       "    <tr>\n",
       "      <th>0</th>\n",
       "      <td>643.09</td>\n",
       "      <td>0</td>\n",
       "    </tr>\n",
       "    <tr>\n",
       "      <th>1</th>\n",
       "      <td>656.22</td>\n",
       "      <td>0</td>\n",
       "    </tr>\n",
       "    <tr>\n",
       "      <th>2</th>\n",
       "      <td>487.29</td>\n",
       "      <td>1</td>\n",
       "    </tr>\n",
       "    <tr>\n",
       "      <th>3</th>\n",
       "      <td>1504.75</td>\n",
       "      <td>0</td>\n",
       "    </tr>\n",
       "    <tr>\n",
       "      <th>4</th>\n",
       "      <td>1275.46</td>\n",
       "      <td>1</td>\n",
       "    </tr>\n",
       "    <tr>\n",
       "      <th>5</th>\n",
       "      <td>575.19</td>\n",
       "      <td>1</td>\n",
       "    </tr>\n",
       "  </tbody>\n",
       "</table>\n",
       "</div>"
      ],
      "text/plain": [
       "      size  view_sea view\n",
       "0   643.09              0\n",
       "1   656.22              0\n",
       "2   487.29              1\n",
       "3  1504.75              0\n",
       "4  1275.46              1\n",
       "5   575.19              1"
      ]
     },
     "execution_count": 40,
     "metadata": {},
     "output_type": "execute_result"
    }
   ],
   "source": [
    "#Transform Categorical Features to Encoded Dummy Numeric Variable\n",
    "x = pd.get_dummies(x,drop_first=True)\n",
    "x.head(6)"
   ]
  },
  {
   "cell_type": "markdown",
   "id": "f087f422",
   "metadata": {},
   "source": [
    "## Partitioning"
   ]
  },
  {
   "cell_type": "code",
   "execution_count": 41,
   "id": "bcc3b581",
   "metadata": {},
   "outputs": [],
   "source": [
    "from sklearn.model_selection import train_test_split\n",
    "\n",
    "x_train, x_test, y_train, y_test = train_test_split(x,y,test_size=0.2,random_state=0)"
   ]
  },
  {
   "cell_type": "code",
   "execution_count": 42,
   "id": "34688301",
   "metadata": {},
   "outputs": [
    {
     "data": {
      "text/html": [
       "<div>\n",
       "<style scoped>\n",
       "    .dataframe tbody tr th:only-of-type {\n",
       "        vertical-align: middle;\n",
       "    }\n",
       "\n",
       "    .dataframe tbody tr th {\n",
       "        vertical-align: top;\n",
       "    }\n",
       "\n",
       "    .dataframe thead th {\n",
       "        text-align: right;\n",
       "    }\n",
       "</style>\n",
       "<table border=\"1\" class=\"dataframe\">\n",
       "  <thead>\n",
       "    <tr style=\"text-align: right;\">\n",
       "      <th></th>\n",
       "      <th>size</th>\n",
       "      <th>view_sea view</th>\n",
       "    </tr>\n",
       "  </thead>\n",
       "  <tbody>\n",
       "    <tr>\n",
       "      <th>44</th>\n",
       "      <td>1060.36</td>\n",
       "      <td>0</td>\n",
       "    </tr>\n",
       "    <tr>\n",
       "      <th>64</th>\n",
       "      <td>685.48</td>\n",
       "      <td>1</td>\n",
       "    </tr>\n",
       "    <tr>\n",
       "      <th>3</th>\n",
       "      <td>1504.75</td>\n",
       "      <td>0</td>\n",
       "    </tr>\n",
       "    <tr>\n",
       "      <th>90</th>\n",
       "      <td>694.52</td>\n",
       "      <td>0</td>\n",
       "    </tr>\n",
       "    <tr>\n",
       "      <th>46</th>\n",
       "      <td>633.19</td>\n",
       "      <td>0</td>\n",
       "    </tr>\n",
       "  </tbody>\n",
       "</table>\n",
       "</div>"
      ],
      "text/plain": [
       "       size  view_sea view\n",
       "44  1060.36              0\n",
       "64   685.48              1\n",
       "3   1504.75              0\n",
       "90   694.52              0\n",
       "46   633.19              0"
      ]
     },
     "execution_count": 42,
     "metadata": {},
     "output_type": "execute_result"
    }
   ],
   "source": [
    "x_train.head()"
   ]
  },
  {
   "cell_type": "markdown",
   "id": "3e0de460",
   "metadata": {},
   "source": [
    "## Feature Scaling for Train Set"
   ]
  },
  {
   "cell_type": "code",
   "execution_count": 43,
   "id": "4df0f4be",
   "metadata": {},
   "outputs": [],
   "source": [
    "from sklearn.preprocessing import StandardScaler\n",
    "\n",
    "scaler = StandardScaler()\n",
    "scaler = scaler.fit(x_train)\n",
    "x_train = scaler.transform(x_train)"
   ]
  },
  {
   "cell_type": "markdown",
   "id": "c8654e79",
   "metadata": {},
   "source": [
    "## Training Algorithm"
   ]
  },
  {
   "cell_type": "code",
   "execution_count": 44,
   "id": "e11b11f8",
   "metadata": {},
   "outputs": [],
   "source": [
    "#Train the Ordinary Least Squared (OLS) algorithm\n",
    "import statsmodels.api as sm\n",
    "x_train = sm.add_constant(x_train)\n",
    "reg_model = sm.OLS(y_train,x_train).fit()"
   ]
  },
  {
   "cell_type": "markdown",
   "id": "12210f68",
   "metadata": {},
   "source": [
    "## Model Validation"
   ]
  },
  {
   "cell_type": "markdown",
   "id": "050e2be0",
   "metadata": {},
   "source": [
    "### a) Using R-Squared coefficient value"
   ]
  },
  {
   "cell_type": "code",
   "execution_count": 45,
   "id": "7dd20851",
   "metadata": {},
   "outputs": [
    {
     "data": {
      "text/html": [
       "<table class=\"simpletable\">\n",
       "<caption>OLS Regression Results</caption>\n",
       "<tr>\n",
       "  <th>Dep. Variable:</th>          <td>price</td>      <th>  R-squared:         </th> <td>   0.873</td>\n",
       "</tr>\n",
       "<tr>\n",
       "  <th>Model:</th>                   <td>OLS</td>       <th>  Adj. R-squared:    </th> <td>   0.869</td>\n",
       "</tr>\n",
       "<tr>\n",
       "  <th>Method:</th>             <td>Least Squares</td>  <th>  F-statistic:       </th> <td>   256.9</td>\n",
       "</tr>\n",
       "<tr>\n",
       "  <th>Date:</th>             <td>Tue, 03 Jan 2023</td> <th>  Prob (F-statistic):</th> <td>2.76e-34</td>\n",
       "</tr>\n",
       "<tr>\n",
       "  <th>Time:</th>                 <td>19:17:01</td>     <th>  Log-Likelihood:    </th> <td> -901.51</td>\n",
       "</tr>\n",
       "<tr>\n",
       "  <th>No. Observations:</th>      <td>    78</td>      <th>  AIC:               </th> <td>   1809.</td>\n",
       "</tr>\n",
       "<tr>\n",
       "  <th>Df Residuals:</th>          <td>    75</td>      <th>  BIC:               </th> <td>   1816.</td>\n",
       "</tr>\n",
       "<tr>\n",
       "  <th>Df Model:</th>              <td>     2</td>      <th>                     </th>     <td> </td>   \n",
       "</tr>\n",
       "<tr>\n",
       "  <th>Covariance Type:</th>      <td>nonrobust</td>    <th>                     </th>     <td> </td>   \n",
       "</tr>\n",
       "</table>\n",
       "<table class=\"simpletable\">\n",
       "<tr>\n",
       "    <td></td>       <th>coef</th>     <th>std err</th>      <th>t</th>      <th>P>|t|</th>  <th>[0.025</th>    <th>0.975]</th>  \n",
       "</tr>\n",
       "<tr>\n",
       "  <th>const</th> <td> 2.877e+05</td> <td> 2922.253</td> <td>   98.446</td> <td> 0.000</td> <td> 2.82e+05</td> <td> 2.94e+05</td>\n",
       "</tr>\n",
       "<tr>\n",
       "  <th>x1</th>    <td> 6.213e+04</td> <td> 2930.342</td> <td>   21.202</td> <td> 0.000</td> <td> 5.63e+04</td> <td>  6.8e+04</td>\n",
       "</tr>\n",
       "<tr>\n",
       "  <th>x2</th>    <td> 2.805e+04</td> <td> 2930.342</td> <td>    9.571</td> <td> 0.000</td> <td> 2.22e+04</td> <td> 3.39e+04</td>\n",
       "</tr>\n",
       "</table>\n",
       "<table class=\"simpletable\">\n",
       "<tr>\n",
       "  <th>Omnibus:</th>       <td>28.567</td> <th>  Durbin-Watson:     </th> <td>   2.086</td>\n",
       "</tr>\n",
       "<tr>\n",
       "  <th>Prob(Omnibus):</th> <td> 0.000</td> <th>  Jarque-Bera (JB):  </th> <td>  80.067</td>\n",
       "</tr>\n",
       "<tr>\n",
       "  <th>Skew:</th>          <td> 1.127</td> <th>  Prob(JB):          </th> <td>4.11e-18</td>\n",
       "</tr>\n",
       "<tr>\n",
       "  <th>Kurtosis:</th>      <td> 7.422</td> <th>  Cond. No.          </th> <td>    1.08</td>\n",
       "</tr>\n",
       "</table><br/><br/>Notes:<br/>[1] Standard Errors assume that the covariance matrix of the errors is correctly specified."
      ],
      "text/plain": [
       "<class 'statsmodels.iolib.summary.Summary'>\n",
       "\"\"\"\n",
       "                            OLS Regression Results                            \n",
       "==============================================================================\n",
       "Dep. Variable:                  price   R-squared:                       0.873\n",
       "Model:                            OLS   Adj. R-squared:                  0.869\n",
       "Method:                 Least Squares   F-statistic:                     256.9\n",
       "Date:                Tue, 03 Jan 2023   Prob (F-statistic):           2.76e-34\n",
       "Time:                        19:17:01   Log-Likelihood:                -901.51\n",
       "No. Observations:                  78   AIC:                             1809.\n",
       "Df Residuals:                      75   BIC:                             1816.\n",
       "Df Model:                           2                                         \n",
       "Covariance Type:            nonrobust                                         \n",
       "==============================================================================\n",
       "                 coef    std err          t      P>|t|      [0.025      0.975]\n",
       "------------------------------------------------------------------------------\n",
       "const       2.877e+05   2922.253     98.446      0.000    2.82e+05    2.94e+05\n",
       "x1          6.213e+04   2930.342     21.202      0.000    5.63e+04     6.8e+04\n",
       "x2          2.805e+04   2930.342      9.571      0.000    2.22e+04    3.39e+04\n",
       "==============================================================================\n",
       "Omnibus:                       28.567   Durbin-Watson:                   2.086\n",
       "Prob(Omnibus):                  0.000   Jarque-Bera (JB):               80.067\n",
       "Skew:                           1.127   Prob(JB):                     4.11e-18\n",
       "Kurtosis:                       7.422   Cond. No.                         1.08\n",
       "==============================================================================\n",
       "\n",
       "Notes:\n",
       "[1] Standard Errors assume that the covariance matrix of the errors is correctly specified.\n",
       "\"\"\""
      ]
     },
     "execution_count": 45,
     "metadata": {},
     "output_type": "execute_result"
    }
   ],
   "source": [
    "reg_model.summary()"
   ]
  },
  {
   "cell_type": "markdown",
   "id": "7717c6e5",
   "metadata": {},
   "source": [
    "### b) Correlation between Predicted Output vs Actual Output"
   ]
  },
  {
   "cell_type": "code",
   "execution_count": 46,
   "id": "1c104fd8",
   "metadata": {},
   "outputs": [],
   "source": [
    "#Feature Scaling the Test Set\n",
    "from sklearn.preprocessing import StandardScaler\n",
    "x_test =  scaler.transform(x_test)"
   ]
  },
  {
   "cell_type": "code",
   "execution_count": 47,
   "id": "371bfff8",
   "metadata": {},
   "outputs": [],
   "source": [
    "#Apply the Model using Test set\n",
    "x_test = sm.add_constant(x_test)\n",
    "y_pred = reg_model.predict(x_test) #Predict the output"
   ]
  },
  {
   "cell_type": "code",
   "execution_count": 48,
   "id": "1b08c636",
   "metadata": {},
   "outputs": [
    {
     "data": {
      "text/html": [
       "<div>\n",
       "<style scoped>\n",
       "    .dataframe tbody tr th:only-of-type {\n",
       "        vertical-align: middle;\n",
       "    }\n",
       "\n",
       "    .dataframe tbody tr th {\n",
       "        vertical-align: top;\n",
       "    }\n",
       "\n",
       "    .dataframe thead th {\n",
       "        text-align: right;\n",
       "    }\n",
       "</style>\n",
       "<table border=\"1\" class=\"dataframe\">\n",
       "  <thead>\n",
       "    <tr style=\"text-align: right;\">\n",
       "      <th></th>\n",
       "      <th>Actual</th>\n",
       "      <th>Predicted</th>\n",
       "    </tr>\n",
       "  </thead>\n",
       "  <tbody>\n",
       "    <tr>\n",
       "      <th>27</th>\n",
       "      <td>406852.30</td>\n",
       "      <td>430308.35</td>\n",
       "    </tr>\n",
       "    <tr>\n",
       "      <th>87</th>\n",
       "      <td>327252.11</td>\n",
       "      <td>361461.15</td>\n",
       "    </tr>\n",
       "    <tr>\n",
       "      <th>2</th>\n",
       "      <td>281626.34</td>\n",
       "      <td>239590.65</td>\n",
       "    </tr>\n",
       "    <tr>\n",
       "      <th>57</th>\n",
       "      <td>395242.10</td>\n",
       "      <td>418991.09</td>\n",
       "    </tr>\n",
       "    <tr>\n",
       "      <th>70</th>\n",
       "      <td>276875.63</td>\n",
       "      <td>303616.98</td>\n",
       "    </tr>\n",
       "    <tr>\n",
       "      <th>84</th>\n",
       "      <td>303597.22</td>\n",
       "      <td>284226.81</td>\n",
       "    </tr>\n",
       "    <tr>\n",
       "      <th>17</th>\n",
       "      <td>234178.16</td>\n",
       "      <td>270366.83</td>\n",
       "    </tr>\n",
       "    <tr>\n",
       "      <th>80</th>\n",
       "      <td>180307.22</td>\n",
       "      <td>226844.33</td>\n",
       "    </tr>\n",
       "    <tr>\n",
       "      <th>56</th>\n",
       "      <td>320345.52</td>\n",
       "      <td>305893.94</td>\n",
       "    </tr>\n",
       "    <tr>\n",
       "      <th>68</th>\n",
       "      <td>294582.94</td>\n",
       "      <td>284226.81</td>\n",
       "    </tr>\n",
       "  </tbody>\n",
       "</table>\n",
       "</div>"
      ],
      "text/plain": [
       "       Actual  Predicted\n",
       "27  406852.30  430308.35\n",
       "87  327252.11  361461.15\n",
       "2   281626.34  239590.65\n",
       "57  395242.10  418991.09\n",
       "70  276875.63  303616.98\n",
       "84  303597.22  284226.81\n",
       "17  234178.16  270366.83\n",
       "80  180307.22  226844.33\n",
       "56  320345.52  305893.94\n",
       "68  294582.94  284226.81"
      ]
     },
     "execution_count": 48,
     "metadata": {},
     "output_type": "execute_result"
    }
   ],
   "source": [
    "#Dataframe of Predicted Output and Actual Output for Test set\n",
    "df_validate = pd.DataFrame({'Actual':y_test,'Predicted':y_pred}) #Create Data Frame\n",
    "df_validate['Predicted']=df_validate['Predicted'].round(2)\n",
    "df_validate.head(10)"
   ]
  },
  {
   "cell_type": "code",
   "execution_count": 49,
   "id": "72fb5d0b",
   "metadata": {},
   "outputs": [
    {
     "data": {
      "image/png": "[encoded data removed]",
      "text/plain": [
       "<Figure size 432x288 with 1 Axes>"
      ]
     },
     "metadata": {
      "needs_background": "light"
     },
     "output_type": "display_data"
    }
   ],
   "source": [
    "plt.scatter(df_validate['Actual'],df_validate['Predicted'])\n",
    "plt.xlabel('Actual')\n",
    "plt.ylabel('Predicted')\n",
    "plt.show()"
   ]
  },
  {
   "cell_type": "code",
   "execution_count": 50,
   "id": "af5b3615",
   "metadata": {},
   "outputs": [
    {
     "data": {
      "text/html": [
       "<div>\n",
       "<style scoped>\n",
       "    .dataframe tbody tr th:only-of-type {\n",
       "        vertical-align: middle;\n",
       "    }\n",
       "\n",
       "    .dataframe tbody tr th {\n",
       "        vertical-align: top;\n",
       "    }\n",
       "\n",
       "    .dataframe thead th {\n",
       "        text-align: right;\n",
       "    }\n",
       "</style>\n",
       "<table border=\"1\" class=\"dataframe\">\n",
       "  <thead>\n",
       "    <tr style=\"text-align: right;\">\n",
       "      <th></th>\n",
       "      <th>Actual</th>\n",
       "      <th>Predicted</th>\n",
       "    </tr>\n",
       "  </thead>\n",
       "  <tbody>\n",
       "    <tr>\n",
       "      <th>Actual</th>\n",
       "      <td>1.00</td>\n",
       "      <td>0.93</td>\n",
       "    </tr>\n",
       "    <tr>\n",
       "      <th>Predicted</th>\n",
       "      <td>0.93</td>\n",
       "      <td>1.00</td>\n",
       "    </tr>\n",
       "  </tbody>\n",
       "</table>\n",
       "</div>"
      ],
      "text/plain": [
       "           Actual  Predicted\n",
       "Actual       1.00       0.93\n",
       "Predicted    0.93       1.00"
      ]
     },
     "execution_count": 50,
     "metadata": {},
     "output_type": "execute_result"
    }
   ],
   "source": [
    "df_validate.corr().round(2)"
   ]
  },
  {
   "cell_type": "markdown",
   "id": "4d551ab9",
   "metadata": {},
   "source": [
    "## Save the Model & Parameter"
   ]
  },
  {
   "cell_type": "code",
   "execution_count": 51,
   "id": "b631ed23",
   "metadata": {},
   "outputs": [],
   "source": [
    "#Save the Model\n",
    "import pickle\n",
    "\n",
    "filename = 'reg_model.sav' #Assigning name to the model\n",
    "\n",
    "#Write it to the file\n",
    "pickle.dump(reg_model, open(filename,'wb')) #wb - write binary"
   ]
  },
  {
   "cell_type": "code",
   "execution_count": 52,
   "id": "153c4ea1",
   "metadata": {},
   "outputs": [
    {
     "data": {
      "text/plain": [
       "['scaler_reg.save']"
      ]
     },
     "execution_count": 52,
     "metadata": {},
     "output_type": "execute_result"
    }
   ],
   "source": [
    "#Save the Scaler Parameter\n",
    "import joblib\n",
    "joblib.dump(scaler,'scaler_reg.save')"
   ]
  },
  {
   "cell_type": "markdown",
   "id": "c12e76a6",
   "metadata": {},
   "source": [
    "## Model Deployment"
   ]
  },
  {
   "cell_type": "code",
   "execution_count": 53,
   "id": "cbf268b5",
   "metadata": {},
   "outputs": [],
   "source": [
    "# Import Packages\n",
    "import numpy as np\n",
    "import pandas as pd\n",
    "import matplotlib.pyplot as plt\n",
    "import seaborn as sns\n",
    "import pickle\n",
    "import joblib"
   ]
  },
  {
   "cell_type": "code",
   "execution_count": 54,
   "id": "a3bce34f",
   "metadata": {},
   "outputs": [],
   "source": [
    "#Load Model\n",
    "filename = 'reg_model.sav'\n",
    "reg_model = pickle.load(open(filename,'rb')) #rb - read binary"
   ]
  },
  {
   "cell_type": "code",
   "execution_count": 55,
   "id": "ca086afd",
   "metadata": {},
   "outputs": [],
   "source": [
    "#Load Scaler Parameter\n",
    "scaler = joblib.load('scaler_reg.save')"
   ]
  },
  {
   "cell_type": "markdown",
   "id": "eaed3e97",
   "metadata": {},
   "source": [
    "#What is the property price if size = 700 & 800\n",
    "df_input = pd.DataFrame({'size':[700,800,900],'view_sea view':[0,0,1]})\n",
    "\n",
    "x_input =  x_scaler.transform(df_input)\n",
    "\n",
    "x_input = sm.add_constant(x_input)\n",
    "y_output = reg_model.predict(x_input).round(2)\n",
    "y_output"
   ]
  },
  {
   "cell_type": "code",
   "execution_count": null,
   "id": "b2faf495",
   "metadata": {},
   "outputs": [],
   "source": []
  }
 ],
 "metadata": {
  "kernelspec": {
   "display_name": "Python 3 (ipykernel)",
   "language": "python",
   "name": "python3"
  },
  "language_info": {
   "codemirror_mode": {
    "name": "ipython",
    "version": 3
   },
   "file_extension": ".py",
   "mimetype": "text/x-python",
   "name": "python",
   "nbconvert_exporter": "python",
   "pygments_lexer": "ipython3",
   "version": "3.12.4"
  }
 },
 "nbformat": 4,
 "nbformat_minor": 5
}
